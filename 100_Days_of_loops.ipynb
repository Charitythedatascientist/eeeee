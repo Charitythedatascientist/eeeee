{
 "cells": [
  {
   "cell_type": "code",
   "execution_count": 1,
   "id": "962989dd",
   "metadata": {},
   "outputs": [
    {
     "name": "stdout",
     "output_type": "stream",
     "text": [
      "Enter the number you want the table to reach 8\n",
      "0\t0\t0\t0\t0\t0\t0\t0\t\n",
      "1\t2\t3\t4\t5\t6\t7\t8\t\n",
      "2\t4\t6\t8\t10\t12\t14\t16\t\n",
      "3\t6\t9\t12\t15\t18\t21\t24\t\n",
      "4\t8\t12\t16\t20\t24\t28\t32\t\n",
      "5\t10\t15\t20\t25\t30\t35\t40\t\n",
      "6\t12\t18\t24\t30\t36\t42\t48\t\n",
      "7\t14\t21\t28\t35\t42\t49\t56\t\n",
      "8\t16\t24\t32\t40\t48\t56\t64\t\n",
      "9\t18\t27\t36\t45\t54\t63\t72\t\n",
      "10\t20\t30\t40\t50\t60\t70\t80\t\n"
     ]
    }
   ],
   "source": [
    "def print_multiplication_table(n):\n",
    "    for i in range (11):\n",
    "        for j in range (1,n+1):\n",
    "            print(i*j, end = '\\t')\n",
    "        print()\n",
    "mul = int(input(\"Enter the number you want the table to reach \"))\n",
    "print_multiplication_table (mul)"
   ]
  },
  {
   "cell_type": "code",
   "execution_count": 25,
   "id": "59dd7322",
   "metadata": {},
   "outputs": [
    {
     "name": "stdout",
     "output_type": "stream",
     "text": [
      "enter the number you want the table tyo reach: 10\n",
      "0\t0\t0\t0\t0\t0\t0\t0\t0\t0\t\n",
      "1\t2\t3\t4\t5\t6\t7\t8\t9\t10\t\n",
      "2\t4\t6\t8\t10\t12\t14\t16\t18\t20\t\n",
      "3\t6\t9\t12\t15\t18\t21\t24\t27\t30\t\n",
      "4\t8\t12\t16\t20\t24\t28\t32\t36\t40\t\n",
      "5\t10\t15\t20\t25\t30\t35\t40\t45\t50\t\n",
      "6\t12\t18\t24\t30\t36\t42\t48\t54\t60\t\n",
      "7\t14\t21\t28\t35\t42\t49\t56\t63\t70\t\n",
      "8\t16\t24\t32\t40\t48\t56\t64\t72\t80\t\n",
      "9\t18\t27\t36\t45\t54\t63\t72\t81\t90\t\n",
      "10\t20\t30\t40\t50\t60\t70\t80\t90\t100\t\n"
     ]
    }
   ],
   "source": [
    "def print_mult_table(n):\n",
    "    for i in range (11):\n",
    "        for j in range (1, n+1):\n",
    "            print(i*j, end = '\\t')\n",
    "        print()\n",
    "mul = int(input(\"enter the number you want the table tyo reach: \"))\n",
    "print_mult_table (mul)"
   ]
  },
  {
   "cell_type": "code",
   "execution_count": 2,
   "id": "6545c606",
   "metadata": {},
   "outputs": [
    {
     "name": "stdout",
     "output_type": "stream",
     "text": [
      "Enter the number you want the table to reach 8\n",
      "0\t0\t0\t0\t0\t0\t0\t0\t\n",
      "1\t2\t3\t4\t5\t6\t7\t8\t\n",
      "2\t4\t6\t8\t10\t12\t14\t16\t\n",
      "3\t6\t9\t12\t15\t18\t21\t24\t\n",
      "4\t8\t12\t16\t20\t24\t28\t32\t\n",
      "5\t10\t15\t20\t25\t30\t35\t40\t\n",
      "6\t12\t18\t24\t30\t36\t42\t48\t\n",
      "7\t14\t21\t28\t35\t42\t49\t56\t\n",
      "8\t16\t24\t32\t40\t48\t56\t64\t\n",
      "9\t18\t27\t36\t45\t54\t63\t72\t\n",
      "10\t20\t30\t40\t50\t60\t70\t80\t\n"
     ]
    }
   ],
   "source": [
    "def print_multiplication_table(n):\n",
    "    for i in range (11):\n",
    "        for j in range (1,n+1):\n",
    "            print(i*j, end = '\\t')\n",
    "        print()\n",
    "mul = int(input(\"Enter the number you want the table to reach \"))\n",
    "print_multiplication_table (mul)"
   ]
  },
  {
   "cell_type": "code",
   "execution_count": 5,
   "id": "815165b1",
   "metadata": {},
   "outputs": [
    {
     "name": "stdout",
     "output_type": "stream",
     "text": [
      "Enter a number: 2\n",
      "valid single digit\n",
      "the single digit you entered is:  2\n"
     ]
    }
   ],
   "source": [
    "def get_single_digit(number):\n",
    "    if len(number) == 1 and number.isdigit():\n",
    "        return True\n",
    "    else:\n",
    "        return False\n",
    "while True:\n",
    "    input_number = input(\"Enter a number: \")\n",
    "    if get_single_digit(input_number):\n",
    "        print(\"valid single digit\")\n",
    "        break\n",
    "    else:\n",
    "        print(\"Not a valid single digit. Try again\")\n",
    "print(\"the single digit you entered is: \", input_number)\n",
    "        "
   ]
  },
  {
   "cell_type": "code",
   "execution_count": 29,
   "id": "f0344a2c",
   "metadata": {},
   "outputs": [
    {
     "name": "stdout",
     "output_type": "stream",
     "text": [
      "Enter a number: 2\n",
      "valid single digit\n",
      "the single digit you entered is:  2\n"
     ]
    }
   ],
   "source": [
    "def get_single_digit(number):\n",
    "    if len(number) == 1 and number.isdigit():\n",
    "        return True\n",
    "    else:\n",
    "        return False\n",
    "while True:\n",
    "    input_number = input(\"Enter a number: \")\n",
    "    if get_single_digit(input_number):\n",
    "        print(\"valid single digit\")\n",
    "        break\n",
    "    else:\n",
    "        print(\"Not a valid single digit. Try again\")\n",
    "print(\"the single digit you entered is: \", input_number)"
   ]
  },
  {
   "cell_type": "code",
   "execution_count": 5,
   "id": "eaaed933",
   "metadata": {},
   "outputs": [
    {
     "name": "stdout",
     "output_type": "stream",
     "text": [
      "Enter the digit: 7\n",
      "[22, 11.0, 34.0, 17.0, 52.0, 26.0, 13.0, 40.0, 20.0, 10.0, 5.0, 16.0, 8.0, 4.0, 2.0, 1.0]\n"
     ]
    }
   ],
   "source": [
    "def collatz(n):\n",
    "    inc = 1\n",
    "    c = []\n",
    "    c.append(n)\n",
    "    \n",
    "    while n>1:\n",
    "        if n%2 ==0:\n",
    "            n = n/2\n",
    "        else:\n",
    "            n = (3*n)+1\n",
    "        c.append(n)\n",
    "    return c\n",
    "\n",
    "j = int(input(\"Enter the digit: \"))\n",
    "print(collatz(j))"
   ]
  },
  {
   "cell_type": "code",
   "execution_count": 16,
   "id": "2746532f",
   "metadata": {},
   "outputs": [
    {
     "name": "stdout",
     "output_type": "stream",
     "text": [
      "Enter the number of rows in the matrix: 2\n",
      "Enter the number of columns in the matrix2\n",
      "\n",
      "\n",
      "Enter matrix elements: \n",
      "Enter elements at position (0, 0) : 2\n",
      "Enter elements at position (0, 1) : 3\n",
      "Enter elements at position (1, 0) : 4\n",
      "Enter elements at position (1, 1) : 5\n",
      "matrix: \n",
      "[2, 3]\n",
      "[4, 5]\n",
      "Row with the most number of non-zero elements is:  [2, 3]\n"
     ]
    }
   ],
   "source": [
    "def non_zero(matrix):\n",
    "    max_count = 0\n",
    "    max_row = None\n",
    "    \n",
    "    for row in matrix:\n",
    "        count = sum(1 for elem in row if elem!= 0)\n",
    "        if count > max_count:\n",
    "            max_count = count\n",
    "            max_row = row\n",
    "    return max_row\n",
    "\n",
    "rows = int(input(\"Enter the number of rows in the matrix: \"))\n",
    "cols = int(input(\"Enter the number of columns in the matrix\"))\n",
    "\n",
    "matrix = []\n",
    "print(\"\\n\")\n",
    "print(\"Enter matrix elements: \")\n",
    "for i in range (rows):\n",
    "    row = []\n",
    "    for j in range (cols):\n",
    "        element = int(input(f\"Enter elements at position ({i}, {j}) : \"))\n",
    "        row.append(element)\n",
    "    matrix.append(row)\n",
    "\n",
    "print(\"matrix: \")\n",
    "for row in matrix:\n",
    "    print(row)\n",
    "\n",
    "result = non_zero(matrix)\n",
    "print(\"Row with the most number of non-zero elements is: \", result)\n"
   ]
  },
  {
   "cell_type": "code",
   "execution_count": 10,
   "id": "b8fd4c0a",
   "metadata": {},
   "outputs": [],
   "source": [
    "def non_zero (matrix):\n",
    "    max_count = 0\n",
    "    max_row = 0\n",
    "    \n",
    "    for row in matrix:\n",
    "        count = (1 for elem in row if elem != 0)\n",
    "        if count > max_count:\n",
    "            max_count = count\n",
    "            max_row = row\n",
    "        return max_row\n",
    "      \n",
    "            \n",
    "        "
   ]
  },
  {
   "cell_type": "code",
   "execution_count": 14,
   "id": "025ab267",
   "metadata": {},
   "outputs": [
    {
     "name": "stdout",
     "output_type": "stream",
     "text": [
      "egg\n",
      "\n",
      "\n",
      "goose\n",
      "goat\n"
     ]
    }
   ],
   "source": [
    "print(\"egg\")\n",
    "print(\"\\n\")\n",
    "print('goose')\n",
    "print('goat')"
   ]
  },
  {
   "cell_type": "code",
   "execution_count": 20,
   "id": "34af91f9",
   "metadata": {},
   "outputs": [
    {
     "name": "stdout",
     "output_type": "stream",
     "text": [
      "Enter the number of rows in the matrix: 2\n",
      "Enter the number of columns in the matrix3\n",
      "\n",
      "\n",
      "Enter matrix elements: \n",
      "Enter elements at position (0, 0) : 1\n",
      "Enter elements at position (0, 1) : 2\n",
      "Enter elements at position (0, 2) : 3\n",
      "Enter elements at position (1, 0) : 4\n",
      "Enter elements at position (1, 1) : 5\n",
      "Enter elements at position (1, 2) : 6\n",
      "matrix: \n",
      "[1, 2, 3]\n",
      "[4, 5, 6]\n"
     ]
    }
   ],
   "source": [
    "rows = int(input(\"Enter the number of rows in the matrix: \"))\n",
    "cols = int(input(\"Enter the number of columns in the matrix\"))\n",
    "\n",
    "matrix = []\n",
    "print(\"\\n\")\n",
    "print(\"Enter matrix elements: \")\n",
    "for i in range (rows):\n",
    "    row = []\n",
    "    for j in range (cols):\n",
    "        element = int(input(f\"Enter elements at position ({i}, {j}) : \"))\n",
    "        row.append(element)\n",
    "    matrix.append(row)\n",
    "\n",
    "print(\"matrix: \")\n",
    "for row in matrix:\n",
    "    print(row)"
   ]
  },
  {
   "cell_type": "code",
   "execution_count": 8,
   "id": "6e4c3b61",
   "metadata": {},
   "outputs": [
    {
     "name": "stdout",
     "output_type": "stream",
     "text": [
      "enter the number of rows in the matrix: 2\n",
      "enter the number of columns in the matrix: 3\n",
      "enter the elements at position 0 01\n",
      "enter the elements at position 0 12\n",
      "enter the elements at position 0 23\n",
      "enter the elements at position 1 04\n",
      "enter the elements at position 1 15\n",
      "enter the elements at position 1 26\n",
      "[[1, 2, 3], [4, 5, 6]]\n",
      "[1, 2, 3]\n",
      "[4, 5, 6]\n"
     ]
    }
   ],
   "source": [
    "rows = int(input(\"enter the number of rows in the matrix: \"))\n",
    "cols = int(input(\"enter the number of columns in the matrix: \"))\n",
    "\n",
    "matrix = []\n",
    "for i in range (rows):\n",
    "    row = []\n",
    "    for j in range (cols):\n",
    "        element = int(input(f\"enter the elements at position {i} {j}\"))\n",
    "        row.append(element)\n",
    "    matrix.append(row)\n",
    "print(matrix)\n",
    "for row in matrix:\n",
    "    print(row)"
   ]
  },
  {
   "cell_type": "code",
   "execution_count": 13,
   "id": "859d5b45",
   "metadata": {},
   "outputs": [
    {
     "name": "stdout",
     "output_type": "stream",
     "text": [
      "0,1,2,3,4,5,6,7,8,9,"
     ]
    }
   ],
   "source": [
    "for i in range (10):\n",
    "    print (i, end =  \",\")"
   ]
  },
  {
   "cell_type": "code",
   "execution_count": 17,
   "id": "9d6e4fb4",
   "metadata": {},
   "outputs": [
    {
     "name": "stdout",
     "output_type": "stream",
     "text": [
      "[]\n",
      "[]\n",
      "[]\n",
      "[]\n",
      "[]\n",
      "[]\n",
      "[]\n",
      "[]\n",
      "[]\n",
      "[]\n",
      "[]\n",
      "[]\n",
      "[]\n",
      "[]\n",
      "[]\n",
      "[]\n",
      "[]\n",
      "[]\n",
      "[]\n",
      "[]\n",
      "[]\n",
      "[]\n",
      "[]\n",
      "[]\n",
      "[]\n",
      "[]\n",
      "[]\n",
      "[]\n",
      "[]\n",
      "[]\n",
      "[]\n",
      "[]\n",
      "[]\n",
      "[]\n",
      "[]\n",
      "[]\n",
      "[]\n",
      "[]\n",
      "[]\n",
      "[]\n",
      "[]\n",
      "[]\n",
      "[]\n",
      "[]\n",
      "[]\n",
      "[]\n",
      "[]\n",
      "[]\n",
      "[]\n",
      "[]\n",
      "[]\n",
      "[]\n",
      "[]\n",
      "[]\n",
      "[]\n",
      "[]\n",
      "[]\n",
      "[]\n",
      "[]\n",
      "[]\n",
      "[]\n",
      "[]\n",
      "[]\n",
      "[]\n",
      "[]\n",
      "[]\n",
      "[]\n",
      "[]\n",
      "[]\n",
      "[]\n",
      "[]\n",
      "[]\n",
      "[]\n",
      "[]\n",
      "[]\n"
     ]
    }
   ],
   "source": [
    "for i in range (10):\n",
    "    row = []\n",
    "    for j in range (i+3):\n",
    "        print(row)\n",
    "        "
   ]
  },
  {
   "cell_type": "code",
   "execution_count": 42,
   "id": "776c3648",
   "metadata": {},
   "outputs": [
    {
     "name": "stdout",
     "output_type": "stream",
     "text": [
      "enter the number of columns you want: 10\n",
      "0\t0\t0\t0\t0\t0\t0\t0\t0\t0\t\n",
      "1\t2\t3\t4\t5\t6\t7\t8\t9\t10\t\n",
      "2\t4\t6\t8\t10\t12\t14\t16\t18\t20\t\n",
      "3\t6\t9\t12\t15\t18\t21\t24\t27\t30\t\n",
      "4\t8\t12\t16\t20\t24\t28\t32\t36\t40\t\n",
      "5\t10\t15\t20\t25\t30\t35\t40\t45\t50\t\n",
      "6\t12\t18\t24\t30\t36\t42\t48\t54\t60\t\n",
      "7\t14\t21\t28\t35\t42\t49\t56\t63\t70\t\n",
      "8\t16\t24\t32\t40\t48\t56\t64\t72\t80\t\n",
      "9\t18\t27\t36\t45\t54\t63\t72\t81\t90\t\n",
      "10\t20\t30\t40\t50\t60\t70\t80\t90\t100\t\n"
     ]
    }
   ],
   "source": [
    "def print_mult_table(n):\n",
    "    for i in range (11):\n",
    "        for j in range (1, n+1):\n",
    "            print(i*j, end = '\\t')\n",
    "        print()\n",
    "mul = int(input('enter the number of columns you want: '))\n",
    "print_mult_table(mul)"
   ]
  },
  {
   "cell_type": "code",
   "execution_count": 38,
   "id": "69e174ea",
   "metadata": {},
   "outputs": [
    {
     "name": "stdout",
     "output_type": "stream",
     "text": [
      "Enter the number you want the table to reach 10\n",
      "0\t0\t0\t0\t0\t0\t0\t0\t0\t0\t\n",
      "1\t2\t3\t4\t5\t6\t7\t8\t9\t10\t\n",
      "2\t4\t6\t8\t10\t12\t14\t16\t18\t20\t\n",
      "3\t6\t9\t12\t15\t18\t21\t24\t27\t30\t\n",
      "4\t8\t12\t16\t20\t24\t28\t32\t36\t40\t\n",
      "5\t10\t15\t20\t25\t30\t35\t40\t45\t50\t\n",
      "6\t12\t18\t24\t30\t36\t42\t48\t54\t60\t\n",
      "7\t14\t21\t28\t35\t42\t49\t56\t63\t70\t\n",
      "8\t16\t24\t32\t40\t48\t56\t64\t72\t80\t\n",
      "9\t18\t27\t36\t45\t54\t63\t72\t81\t90\t\n",
      "10\t20\t30\t40\t50\t60\t70\t80\t90\t100\t\n"
     ]
    }
   ],
   "source": [
    "def print_multiplication_table(n):\n",
    "    for i in range (11):\n",
    "        for j in range (1,n+1):\n",
    "            print(i*j, end = '\\t')\n",
    "        print()\n",
    "mul = int(input(\"Enter the number you want the table to reach \"))\n",
    "print_multiplication_table (mul)"
   ]
  },
  {
   "cell_type": "code",
   "execution_count": 6,
   "id": "18d30a97",
   "metadata": {},
   "outputs": [
    {
     "name": "stdout",
     "output_type": "stream",
     "text": [
      "Enter the element of the list (space-separated): 8\n"
     ]
    }
   ],
   "source": [
    "def kinear_search(arr, target):\n",
    "    for i in range (len(arr)):\n",
    "        if arr[i] == target:\n",
    "            return 1\n",
    "    return -1\n",
    "\n",
    "elements = input(\"Enter the element of the list (space-separated): \").split()\n",
    "my_list = [int(a) for a in elements]\n",
    "target = int"
   ]
  },
  {
   "cell_type": "code",
   "execution_count": null,
   "id": "7c8b12f6",
   "metadata": {},
   "outputs": [],
   "source": []
  }
 ],
 "metadata": {
  "kernelspec": {
   "display_name": "Python 3 (ipykernel)",
   "language": "python",
   "name": "python3"
  },
  "language_info": {
   "codemirror_mode": {
    "name": "ipython",
    "version": 3
   },
   "file_extension": ".py",
   "mimetype": "text/x-python",
   "name": "python",
   "nbconvert_exporter": "python",
   "pygments_lexer": "ipython3",
   "version": "3.10.9"
  }
 },
 "nbformat": 4,
 "nbformat_minor": 5
}
